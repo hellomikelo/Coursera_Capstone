{
    "nbformat_minor": 1, 
    "cells": [
        {
            "source": "# Los Angeles city guide for young thrifty professionals using Foursquare API", 
            "cell_type": "markdown", 
            "metadata": {
                "collapsed": true
            }
        }, 
        {
            "source": "### A description of the problem and a discussion of the background. (15 marks)\n> Clearly define a problem or an idea of your choice, where you would need to leverage the Foursquare location data to solve or execute. Remember that data science problems always target an audience and are meant to help a group of stakeholders solve a problem, so make sure that you explicitly describe your audience and why they would care about your problem. This submission will eventually become your Introduction/Business Problem section in your final report. So I recommend that you push the report (having your Introduction/Business Problem section only for now) to your Github repository and submit a link to it.", 
            "cell_type": "markdown", 
            "metadata": {}
        }, 
        {
            "source": "Whether you're a seasoned Angelino or a recent transplant from somewhere else, or even just someone who's contemplating moving to the city of Angels, searching for a young, fun, and affordable neighborhood to live in Los Angeles can be a daunting task. With 16 counties and 272 neighborhoods in this great city, how do you figure out which one fits your personality and priorities the best? In order to better understand the different neighborhoods and help you make an informed choice, in this exploratory data analysis I will leverage power of data to cluster the different neighborhoods in LA. Hopefully this can help young professionals make a decision on finding a comfortable and fun neighborhood to live in without spending a fortune. I can think of 3 main criteria when evaluating neighborhoods:\n\n1. __Housing price__: Where you live must be affordable. If most of the hard-earned money goes to rent, then little dispoable income will be left for all the other fun stuff. The recommended rent compare to earning is ~30% of after-tax paycheck.\n2. __Safety__: Nobody wants to live somewhere that, although very affordable, has unspoken curfews at night because the neighborhood isn't safe. On the other hand, maybe it's not necessary to live in an expensive gated community with 24-hour security while having to shell out most of your paycheck just so you feel safe.\n3. __Entertainment__: What do young and restless minds do when they are not working? They are enjoying life! An ideal neighborhood should provide a vast array of entertainment options that is affordable with high customer ratings.\n\nJust like with anything in life, there is no 100% perfect choice for everything we do; however, when we strike a balance between what we think is important, then usually the optimal choice will emerge. In the case of finding an ideal neighborhood to live in, I believe safety, housing prices, and entertainment options are three critical criteria that a good neighborhood should have a good balance in. With that in mind, let's move onto the data requirements!\n", 
            "cell_type": "markdown", 
            "metadata": {}
        }, 
        {
            "source": "### A description of the data and how it will be used to solve the problem. (15 marks)\n\n> Describe the data that you will be using to solve the problem or execute your idea. Remember that you will need to use the Foursquare location data to solve the problem or execute your idea. You can absolutely use other datasets in combination with the Foursquare location data. So make sure that you provide adequate explanation and discussion, with examples, of the data that you will be using, even if it is only Foursquare location data. This submission will eventually become your Data section in your final report. So I recommend that you push the report (having your Data section) to your Github repository and submit a link to it.", 
            "cell_type": "markdown", 
            "metadata": {}
        }, 
        {
            "source": "The main criteria and data sources that will be used to cluster the neighborhoods will be: \n1. Crime rate ([Data.org](https://catalog.data.gov/dataset?organization=city-of-los-angeles))\n2. Housing prices ([Zillow API](https://www.zillow.com/howto/api/APIOverview.htm))\n3. Venue information ([Foursquare API](https://developer.foursquare.com/docs/api/endpoints))\n\n#### Data.org\nData.org provides [Arrest Data from 2010 to Present](https://catalog.data.gov/dataset/arrest-data-from-2010-to-present) in Los Angeles. Here's the description: \n>This dataset reflects arrest incidents in the City of Los Angeles dating back to 2010. This data is transcribed from original arrest reports that are typed on paper and therefore there may be some inaccuracies within the data. Some location fields with missing data are noted as (0.0000\u00b0, 0.0000\u00b0). Address fields are only provided to the nearest hundred block in order to maintain privacy. This data is as accurate as the data in the database. Please note questions or concerns in the comments.\n\nThis can be used to evaluate the crime history of each neighborhood. The dataset contains the following features:\n>Index(['Report ID', 'Arrest Date', 'Time', 'Area ID', 'Area Name',\n       'Reporting District', 'Age', 'Sex Code', 'Descent Code',\n       'Charge Group Code', 'Charge Group Description', 'Arrest Type Code',\n       'Charge', 'Charge Description', 'Address', 'Cross Street', 'Location'],\n      dtype='object')\n\n#### Zillow API\n[Zillow API](https://www.zillow.com/howto/api/APIOverview.htm) calls of interest `GetRegionChildren` and `GetRegionChart` provide neighborhood data. They can fetch neighborhood and city affordability statistics: \n* Zillow Home Value Index, Zestimate distribution, median single family home and condo values, average tax rates, and percentage of flips.\n* Demographic data at the city and neighborhood level\n* Lists of counties, cities, ZIP codes, and neighborhoods, as well as latitude and longitude data for these areas so you can put them on a map.  \n\nAlso, the [Python-Zillow](https://github.com/seme0021/python-zillow) library, a Python wrapper around the Zillow API, will be used to fetch data from Zillow.\n#### Foursquare API\nFoursquare API provide regular endpoints for fetching:\n* Price\n* Like count\n* Rating\n* Category\n* Postal code \n\nof venues in LA. This can be used to judge the vibrancy of the neighborhoods and whether or not it would be a fun place to live in.\n", 
            "cell_type": "markdown", 
            "metadata": {}
        }
    ], 
    "metadata": {
        "kernelspec": {
            "display_name": "Python 3.5", 
            "name": "python3", 
            "language": "python"
        }, 
        "language_info": {
            "mimetype": "text/x-python", 
            "nbconvert_exporter": "python", 
            "version": "3.5.5", 
            "name": "python", 
            "file_extension": ".py", 
            "pygments_lexer": "ipython3", 
            "codemirror_mode": {
                "version": 3, 
                "name": "ipython"
            }
        }
    }, 
    "nbformat": 4
}