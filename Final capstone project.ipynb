{
    "nbformat_minor": 1, 
    "cells": [
        {
            "source": "# Los Angeles city guide for young thrifty professionals using Foursquare API", 
            "cell_type": "markdown", 
            "metadata": {
                "collapsed": true
            }
        }, 
        {
            "source": "### A description of the problem and a discussion of the background. (15 marks)\n> Clearly define a problem or an idea of your choice, where you would need to leverage the Foursquare location data to solve or execute. Remember that data science problems always target an audience and are meant to help a group of stakeholders solve a problem, so make sure that you explicitly describe your audience and why they would care about your problem. This submission will eventually become your Introduction/Business Problem section in your final report. So I recommend that you push the report (having your Introduction/Business Problem section only for now) to your Github repository and submit a link to it.", 
            "cell_type": "markdown", 
            "metadata": {}
        }, 
        {
            "source": "Whether you're a seasoned Angelino or a recent transplant from somewhere else, or even just someone who's contemplating moving to the city of Angels, searching for a young, fun, and affordable neighborhood to live in Los Angeles can be a daunting task. With 16 counties and 272 neighborhoods in this great city, how do you figure out which one fits your personality and priorities the best? In order to better understand the different neighborhoods and help you make an informed choice, in this exploratory data analysis I will leverage power of data to cluster the different neighborhoods in LA. Hopefully this can help young professionals make a decision on finding a comfortable and fun neighborhood to live in without spending a fortune. I can think of 3 main criteria when evaluating neighborhoods:\n\n1. __Housing price__: Where you live must be affordable. If most of the hard-earned money goes to rent, then little dispoable income will be left for all the other fun stuff. The recommended rent compare to earning is ~30% of after-tax paycheck.\n2. __Safety__: Nobody wants to live somewhere that, although very affordable, has unspoken curfews at night because the neighborhood isn't safe. On the other hand, maybe it's not necessary to live in an expensive gated community with 24-hour security while having to shell out most of your paycheck just so you feel safe.\n3. __Entertainment__: What do young and restless minds do when they are not working? They are enjoying life! An ideal neighborhood should provide a vast array of entertainment options that is affordable with high customer ratings.\n\nJust like with anything in life, there is no 100% perfect choice for everything we do; however, when we strike a balance between what we think is important, then usually the optimal choice will emerge. In the case of finding an ideal neighborhood to live in, I believe safety, housing prices, and entertainment options are three critical criteria that a good neighborhood should have a good balance in. With that in mind, let's move onto the data requirements!\n", 
            "cell_type": "markdown", 
            "metadata": {}
        }, 
        {
            "source": "### A description of the data and how it will be used to solve the problem. (15 marks)\n\n> Describe the data that you will be using to solve the problem or execute your idea. Remember that you will need to use the Foursquare location data to solve the problem or execute your idea. You can absolutely use other datasets in combination with the Foursquare location data. So make sure that you provide adequate explanation and discussion, with examples, of the data that you will be using, even if it is only Foursquare location data. This submission will eventually become your Data section in your final report. So I recommend that you push the report (having your Data section) to your Github repository and submit a link to it.", 
            "cell_type": "markdown", 
            "metadata": {}
        }, 
        {
            "source": "The main criteria and data sources that will be used to cluster the neighborhoods will be: \n1. Crime rate ([Data.org](https://catalog.data.gov/dataset?organization=city-of-los-angeles))\n2. Housing prices ([Zillow API](https://www.zillow.com/howto/api/APIOverview.htm))\n3. Venue information ([Foursquare API](https://developer.foursquare.com/docs/api/endpoints))\n\n#### Data.org\nData.org provides [Arrest Data from 2010 to Present](https://catalog.data.gov/dataset/arrest-data-from-2010-to-present) in Los Angeles. Here's the description: \n>This dataset reflects arrest incidents in the City of Los Angeles dating back to 2010. This data is transcribed from original arrest reports that are typed on paper and therefore there may be some inaccuracies within the data. Some location fields with missing data are noted as (0.0000\u00b0, 0.0000\u00b0). Address fields are only provided to the nearest hundred block in order to maintain privacy. This data is as accurate as the data in the database. Please note questions or concerns in the comments.\n\nThis can be used to evaluate the crime history of each neighborhood. The dataset contains the following features:\n>Index(['Report ID', 'Arrest Date', 'Time', 'Area ID', 'Area Name',\n       'Reporting District', 'Age', 'Sex Code', 'Descent Code',\n       'Charge Group Code', 'Charge Group Description', 'Arrest Type Code',\n       'Charge', 'Charge Description', 'Address', 'Cross Street', 'Location'],\n      dtype='object')\n\n#### Zillow API\n[Zillow API](https://www.zillow.com/howto/api/APIOverview.htm) calls of interest `GetRegionChildren` and `GetRegionChart` provide neighborhood data. They can fetch neighborhood and city affordability statistics: \n* Zillow Home Value Index, Zestimate distribution, median single family home and condo values, average tax rates, and percentage of flips.\n* Demographic data at the city and neighborhood level\n* Lists of counties, cities, ZIP codes, and neighborhoods, as well as latitude and longitude data for these areas so you can put them on a map.  \n\nAlso, the [Python-Zillow](https://github.com/seme0021/python-zillow) library, a Python wrapper around the Zillow API, will be used to fetch data from Zillow.\n#### Foursquare API\nFoursquare API provide regular endpoints for fetching:\n* Price\n* Like count\n* Rating\n* Category\n* Postal code \n\nof venues in LA. This can be used to judge the vibrancy of the neighborhoods and whether or not it would be a fun place to live in.\n", 
            "cell_type": "markdown", 
            "metadata": {}
        }, 
        {
            "execution_count": 13, 
            "cell_type": "code", 
            "metadata": {}, 
            "outputs": [
                {
                    "output_type": "stream", 
                    "name": "stdout", 
                    "text": "--2019-04-10 15:35:30--  https://data.lacity.org/api/views/yru6-6re4/rows.csv?accessType=DOWNLOAD\nResolving data.lacity.org (data.lacity.org)... 52.206.140.205, 52.206.68.26, 52.206.140.199\nConnecting to data.lacity.org (data.lacity.org)|52.206.140.205|:443... connected.\nHTTP request sent, awaiting response... 200 OK\nLength: unspecified [text/csv]\nSaving to: \u2018crime_data.csv\u2019\n\n    [   <=>                                 ] 211,367,554 3.11MB/s   in 65s    \n\nLast-modified header invalid -- time-stamp ignored.\n2019-04-10 15:36:35 (3.12 MB/s) - \u2018crime_data.csv\u2019 saved [211367554]\n\nCrime data downloaded!\n"
                }
            ], 
            "source": "!wget -O 'crime_data.csv' 'https://data.lacity.org/api/views/yru6-6re4/rows.csv?accessType=DOWNLOAD'\nprint('Crime data downloaded!')"
        }, 
        {
            "execution_count": 14, 
            "cell_type": "code", 
            "metadata": {}, 
            "outputs": [
                {
                    "execution_count": 14, 
                    "metadata": {}, 
                    "data": {
                        "text/html": "<div>\n<style scoped>\n    .dataframe tbody tr th:only-of-type {\n        vertical-align: middle;\n    }\n\n    .dataframe tbody tr th {\n        vertical-align: top;\n    }\n\n    .dataframe thead th {\n        text-align: right;\n    }\n</style>\n<table border=\"1\" class=\"dataframe\">\n  <thead>\n    <tr style=\"text-align: right;\">\n      <th></th>\n      <th>Report ID</th>\n      <th>Arrest Date</th>\n      <th>Time</th>\n      <th>Area ID</th>\n      <th>Area Name</th>\n      <th>Reporting District</th>\n      <th>Age</th>\n      <th>Sex Code</th>\n      <th>Descent Code</th>\n      <th>Charge Group Code</th>\n      <th>Charge Group Description</th>\n      <th>Arrest Type Code</th>\n      <th>Charge</th>\n      <th>Charge Description</th>\n      <th>Address</th>\n      <th>Cross Street</th>\n      <th>Location</th>\n    </tr>\n  </thead>\n  <tbody>\n    <tr>\n      <th>0</th>\n      <td>111421932</td>\n      <td>07/02/2016</td>\n      <td>1845.0</td>\n      <td>14</td>\n      <td>Pacific</td>\n      <td>1411</td>\n      <td>50</td>\n      <td>M</td>\n      <td>H</td>\n      <td>24.0</td>\n      <td>Miscellaneous Other Violations</td>\n      <td>M</td>\n      <td>LAMC</td>\n      <td>LOS ANGELES MUNICIPAL CODE</td>\n      <td>BROOKS</td>\n      <td>OCEAN FRONT</td>\n      <td>(33.9918, -118.4791)</td>\n    </tr>\n    <tr>\n      <th>1</th>\n      <td>121801235</td>\n      <td>12/18/2016</td>\n      <td>940.0</td>\n      <td>18</td>\n      <td>Southeast</td>\n      <td>1822</td>\n      <td>38</td>\n      <td>F</td>\n      <td>B</td>\n      <td>24.0</td>\n      <td>Miscellaneous Other Violations</td>\n      <td>M</td>\n      <td>LAMC</td>\n      <td>LOS ANGELES MUNICIPAL CODE</td>\n      <td>300 W  CENTURY                      BL</td>\n      <td>NaN</td>\n      <td>(33.9456, -118.2784)</td>\n    </tr>\n    <tr>\n      <th>2</th>\n      <td>150604240</td>\n      <td>01/03/2016</td>\n      <td>1315.0</td>\n      <td>6</td>\n      <td>Hollywood</td>\n      <td>669</td>\n      <td>43</td>\n      <td>M</td>\n      <td>O</td>\n      <td>24.0</td>\n      <td>Miscellaneous Other Violations</td>\n      <td>M</td>\n      <td>71.02LAMC</td>\n      <td>HIRE VEH W/O LIC</td>\n      <td>HOBART</td>\n      <td>SANTA MONICA</td>\n      <td>(34.0908, -118.3046)</td>\n    </tr>\n    <tr>\n      <th>3</th>\n      <td>150704165</td>\n      <td>04/27/2016</td>\n      <td>2230.0</td>\n      <td>7</td>\n      <td>Wilshire</td>\n      <td>721</td>\n      <td>20</td>\n      <td>F</td>\n      <td>B</td>\n      <td>6.0</td>\n      <td>Larceny</td>\n      <td>M</td>\n      <td>484(A)PC</td>\n      <td>GRAND THEFT (OVER $400)</td>\n      <td>8500    BEVERLY                      BL</td>\n      <td>NaN</td>\n      <td>(34.0761, -118.3766)</td>\n    </tr>\n    <tr>\n      <th>4</th>\n      <td>151405507</td>\n      <td>01/22/2016</td>\n      <td>1309.0</td>\n      <td>14</td>\n      <td>Pacific</td>\n      <td>1427</td>\n      <td>60</td>\n      <td>M</td>\n      <td>W</td>\n      <td>17.0</td>\n      <td>Liquor Laws</td>\n      <td>M</td>\n      <td>25620BP</td>\n      <td>OPEN ALCOHOLIC BEV IN PUBLIC PARK/PLACE</td>\n      <td>VENICE</td>\n      <td>MOTOR</td>\n      <td>(34.0237, -118.4246)</td>\n    </tr>\n  </tbody>\n</table>\n</div>", 
                        "text/plain": "   Report ID Arrest Date    Time  Area ID  Area Name  Reporting District  Age  \\\n0  111421932  07/02/2016  1845.0       14    Pacific                1411   50   \n1  121801235  12/18/2016   940.0       18  Southeast                1822   38   \n2  150604240  01/03/2016  1315.0        6  Hollywood                 669   43   \n3  150704165  04/27/2016  2230.0        7   Wilshire                 721   20   \n4  151405507  01/22/2016  1309.0       14    Pacific                1427   60   \n\n  Sex Code Descent Code  Charge Group Code        Charge Group Description  \\\n0        M            H               24.0  Miscellaneous Other Violations   \n1        F            B               24.0  Miscellaneous Other Violations   \n2        M            O               24.0  Miscellaneous Other Violations   \n3        F            B                6.0                         Larceny   \n4        M            W               17.0                     Liquor Laws   \n\n  Arrest Type Code     Charge                       Charge Description  \\\n0                M       LAMC               LOS ANGELES MUNICIPAL CODE   \n1                M       LAMC               LOS ANGELES MUNICIPAL CODE   \n2                M  71.02LAMC                         HIRE VEH W/O LIC   \n3                M   484(A)PC                  GRAND THEFT (OVER $400)   \n4                M    25620BP  OPEN ALCOHOLIC BEV IN PUBLIC PARK/PLACE   \n\n                                   Address  Cross Street              Location  \n0                                   BROOKS   OCEAN FRONT  (33.9918, -118.4791)  \n1   300 W  CENTURY                      BL           NaN  (33.9456, -118.2784)  \n2                                   HOBART  SANTA MONICA  (34.0908, -118.3046)  \n3  8500    BEVERLY                      BL           NaN  (34.0761, -118.3766)  \n4                                   VENICE         MOTOR  (34.0237, -118.4246)  "
                    }, 
                    "output_type": "execute_result"
                }
            ], 
            "source": "import pandas as pd\ndf = pd.read_csv('crime_data.csv')\n"
        }, 
        {
            "execution_count": 15, 
            "cell_type": "code", 
            "metadata": {}, 
            "outputs": [
                {
                    "execution_count": 15, 
                    "metadata": {}, 
                    "data": {
                        "text/plain": "Index(['Report ID', 'Arrest Date', 'Time', 'Area ID', 'Area Name',\n       'Reporting District', 'Age', 'Sex Code', 'Descent Code',\n       'Charge Group Code', 'Charge Group Description', 'Arrest Type Code',\n       'Charge', 'Charge Description', 'Address', 'Cross Street', 'Location'],\n      dtype='object')"
                    }, 
                    "output_type": "execute_result"
                }
            ], 
            "source": "df.columns\n# df.head()"
        }, 
        {
            "execution_count": null, 
            "cell_type": "code", 
            "metadata": {}, 
            "outputs": [], 
            "source": ""
        }
    ], 
    "metadata": {
        "kernelspec": {
            "display_name": "Python 3.5", 
            "name": "python3", 
            "language": "python"
        }, 
        "language_info": {
            "mimetype": "text/x-python", 
            "nbconvert_exporter": "python", 
            "version": "3.5.5", 
            "name": "python", 
            "file_extension": ".py", 
            "pygments_lexer": "ipython3", 
            "codemirror_mode": {
                "version": 3, 
                "name": "ipython"
            }
        }
    }, 
    "nbformat": 4
}